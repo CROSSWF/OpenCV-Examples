{
 "cells": [
  {
   "cell_type": "code",
   "execution_count": 1,
   "metadata": {},
   "outputs": [],
   "source": [
    "import cv2\n",
    "import numpy as np"
   ]
  },
  {
   "cell_type": "code",
   "execution_count": 8,
   "metadata": {},
   "outputs": [],
   "source": [
    "img = cv2.imread(\"test.jpg\")\n",
    "    \n",
    "laplacian = cv2.Laplacian(img, cv2.CV_64F)\n",
    "sobelx = cv2.Sobel(img,cv2.CV_64F, 1, 0,ksize = 5)\n",
    "sobely = cv2.Sobel(img,cv2.CV_64F, 0, 1,ksize = 5)\n",
    "edges = cv2.Canny(img, 200, 300)\n",
    "\n",
    "\n",
    "#cv2.imshow(\"img\",img)\n",
    "#cv2.imshow(\"laplacian\",laplacian)\n",
    "#cv2.imshow(\"sobelx\",sobelx)\n",
    "#cv2.imshow(\"sobely\",sobely)\n",
    "cv2.imshow(\"edges\",edges)\n",
    "cv2.waitKey(0)\n",
    "cv2.destroyAllWindows()"
   ]
  },
  {
   "cell_type": "code",
   "execution_count": null,
   "metadata": {},
   "outputs": [],
   "source": []
  }
 ],
 "metadata": {
  "kernelspec": {
   "display_name": "Python 2",
   "language": "python",
   "name": "python2"
  },
  "language_info": {
   "codemirror_mode": {
    "name": "ipython",
    "version": 2
   },
   "file_extension": ".py",
   "mimetype": "text/x-python",
   "name": "python",
   "nbconvert_exporter": "python",
   "pygments_lexer": "ipython2",
   "version": "2.7.14"
  }
 },
 "nbformat": 4,
 "nbformat_minor": 2
}
