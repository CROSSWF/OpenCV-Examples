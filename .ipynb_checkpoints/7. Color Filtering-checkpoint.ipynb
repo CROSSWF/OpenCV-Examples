{
 "cells": [
  {
   "cell_type": "code",
   "execution_count": 1,
   "metadata": {},
   "outputs": [],
   "source": [
    "import cv2\n",
    "import numpy as np"
   ]
  },
  {
   "cell_type": "code",
   "execution_count": null,
   "metadata": {},
   "outputs": [],
   "source": [
    "#cap = cv2.VideoCapture(0)\n",
    "img = cv2.imread('test.jpg')\n",
    "\n",
    "# while True:\n",
    "#     _, frame = cap.read()\n",
    "#     hsv = cv2.cvtColor(frame, cv2.COLOR_BGR2HSV)\n",
    "    \n",
    "#     lower_red = np.array([50,0,0])\n",
    "#     upper_red = np.array([255,255,155])\n",
    "    \n",
    "#     mask = cv2.inRange(hsv,lower_red,upper_red)\n",
    "#     res = cv2.bitwise_and(frame,frame,mask = mask)\n",
    "    \n",
    "#     cv2.imshow('frame',frame)\n",
    "#     cv2.imshow('mask',mask)\n",
    "#     cv2.imshow('res',res)\n",
    "    \n",
    "#     k = cv2.waitKey(5) & 0xFF\n",
    "#     if k == 27:\n",
    "#         break\n",
    "hsv = cv2.cvtColor(img, cv2.COLOR_BGR2HSV)\n",
    "lower_red = np.array([150,0,0])\n",
    "upper_red = np.array([180,255,255])\n",
    "\n",
    "mask = cv2.inRange(hsv,lower_red,upper_red)\n",
    "res = cv2.bitwise_and(img,img,mask = mask)\n",
    "\n",
    "cv2.imshow('img', img)\n",
    "cv2.imshow('mask', mask)\n",
    "cv2.imshow('res', res)\n",
    "\n",
    "cv2.waitKey(0)\n",
    "cv2.destroyAllWindows()\n",
    "#cap.release()"
   ]
  },
  {
   "cell_type": "code",
   "execution_count": null,
   "metadata": {},
   "outputs": [],
   "source": []
  }
 ],
 "metadata": {
  "kernelspec": {
   "display_name": "Python 2",
   "language": "python",
   "name": "python2"
  },
  "language_info": {
   "codemirror_mode": {
    "name": "ipython",
    "version": 2
   },
   "file_extension": ".py",
   "mimetype": "text/x-python",
   "name": "python",
   "nbconvert_exporter": "python",
   "pygments_lexer": "ipython2",
   "version": "2.7.14"
  }
 },
 "nbformat": 4,
 "nbformat_minor": 2
}
