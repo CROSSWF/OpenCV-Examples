{
 "cells": [
  {
   "cell_type": "code",
   "execution_count": 1,
   "metadata": {},
   "outputs": [],
   "source": [
    "import cv2\n",
    "import numpy as np"
   ]
  },
  {
   "cell_type": "code",
   "execution_count": 5,
   "metadata": {},
   "outputs": [],
   "source": [
    "img1 = cv2.imread('test.jpg')\n",
    "img2 = cv2.imread('test2.jpg')\n",
    "\n",
    "#add = img1 + img2\n",
    "#add = cv2.add(img1,img2)\n",
    "weighted = cv2.addWeighted(img1,0.6,img2,0.4,0)\n",
    "\n",
    "cv2.imshow('weighted',weighted)\n",
    "cv2.waitKey(0)\n",
    "cv2.destroyAllWindows()"
   ]
  },
  {
   "cell_type": "code",
   "execution_count": 6,
   "metadata": {},
   "outputs": [],
   "source": [
    "img3 = cv2.imread('logo.jpg')\n",
    "rows,cols,channels = img2.shape\n",
    "roi = img3[0:rows,0:cols]\n",
    "\n",
    "img2gray = cv2.cvtColor(img3,cv2.COLOR_BGR2GRAY)\n",
    "ret,mask = cv2.threshold(img2gray,220,255,cv2.THRESH_BINARY_INV)\n",
    "\n",
    "cv2.imshow('mask',mask)\n",
    "cv2.waitKey(0)\n",
    "cv2.destroyAllWindows()"
   ]
  },
  {
   "cell_type": "code",
   "execution_count": 12,
   "metadata": {},
   "outputs": [],
   "source": [
    "mask_inv = cv2.bitwise_not(mask)\n",
    "\n",
    "img1_bg = cv2.bitwise_and(roi,roi,mask = mask_inv)\n",
    "img3_fg = cv2.bitwise_and(img3,img3,mask = mask)\n",
    "\n",
    "dst = cv2.add(img1_bg,img3_fg)\n",
    "rows,cols,channels = img3.shape\n",
    "img1[0:rows,0:cols] = dst\n",
    "\n",
    "cv2.imshow('res',img1)\n",
    "cv2.imshow('mask_inv',mask_inv)\n",
    "cv2.imshow('img1_bg',img1_bg)\n",
    "cv2.imshow('img3_fg',img3_fg)\n",
    "cv2.waitKey(0)\n",
    "cv2.destroyAllWindows()"
   ]
  },
  {
   "cell_type": "code",
   "execution_count": null,
   "metadata": {},
   "outputs": [],
   "source": []
  }
 ],
 "metadata": {
  "kernelspec": {
   "display_name": "Python 2",
   "language": "python",
   "name": "python2"
  },
  "language_info": {
   "codemirror_mode": {
    "name": "ipython",
    "version": 2
   },
   "file_extension": ".py",
   "mimetype": "text/x-python",
   "name": "python",
   "nbconvert_exporter": "python",
   "pygments_lexer": "ipython2",
   "version": "2.7.14"
  }
 },
 "nbformat": 4,
 "nbformat_minor": 2
}
