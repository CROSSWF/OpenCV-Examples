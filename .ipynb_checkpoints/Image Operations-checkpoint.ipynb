{
 "cells": [
  {
   "cell_type": "code",
   "execution_count": 1,
   "metadata": {},
   "outputs": [],
   "source": [
    "import numpy as np\n",
    "import cv2"
   ]
  },
  {
   "cell_type": "code",
   "execution_count": 2,
   "metadata": {},
   "outputs": [
    {
     "name": "stdout",
     "output_type": "stream",
     "text": [
      "[234 226 219]\n"
     ]
    }
   ],
   "source": [
    "img = cv2.imread('test.jpg',cv2.IMREAD_COLOR)\n",
    "px = img[55,55]\n",
    "print(px)"
   ]
  },
  {
   "cell_type": "code",
   "execution_count": 3,
   "metadata": {},
   "outputs": [
    {
     "name": "stdout",
     "output_type": "stream",
     "text": [
      "[255 255 255]\n"
     ]
    }
   ],
   "source": [
    "img[55,55] = [255,255,255]\n",
    "print(px)"
   ]
  },
  {
   "cell_type": "code",
   "execution_count": 4,
   "metadata": {
    "scrolled": true
   },
   "outputs": [
    {
     "name": "stdout",
     "output_type": "stream",
     "text": [
      "[[[234 222 210]\n",
      "  [234 222 210]\n",
      "  [234 222 210]\n",
      "  ...\n",
      "  [232 223 210]\n",
      "  [232 223 210]\n",
      "  [232 223 210]]\n",
      "\n",
      " [[234 222 210]\n",
      "  [234 222 210]\n",
      "  [234 222 210]\n",
      "  ...\n",
      "  [232 223 210]\n",
      "  [232 223 210]\n",
      "  [232 223 210]]\n",
      "\n",
      " [[233 222 208]\n",
      "  [233 222 208]\n",
      "  [233 222 208]\n",
      "  ...\n",
      "  [232 223 210]\n",
      "  [232 223 210]\n",
      "  [232 223 210]]\n",
      "\n",
      " ...\n",
      "\n",
      " [[231 222 208]\n",
      "  [231 222 208]\n",
      "  [230 221 207]\n",
      "  ...\n",
      "  [239 225 213]\n",
      "  [239 225 213]\n",
      "  [239 225 213]]\n",
      "\n",
      " [[233 224 210]\n",
      "  [233 224 210]\n",
      "  [232 223 209]\n",
      "  ...\n",
      "  [237 223 211]\n",
      "  [237 223 211]\n",
      "  [237 223 211]]\n",
      "\n",
      " [[233 226 211]\n",
      "  [233 226 211]\n",
      "  [233 226 211]\n",
      "  ...\n",
      "  [237 223 211]\n",
      "  [237 223 211]\n",
      "  [237 223 211]]]\n"
     ]
    }
   ],
   "source": [
    "#Region Of Image\n",
    "roi = img[100:150,100:150]\n",
    "print(roi)"
   ]
  },
  {
   "cell_type": "code",
   "execution_count": 8,
   "metadata": {},
   "outputs": [],
   "source": [
    "img[100:150,100:150] = [255,255,255]\n",
    "cv2.imshow(\"image\",img)\n",
    "cv2.waitKey(0)\n",
    "cv2.destroyAllWindows()"
   ]
  },
  {
   "cell_type": "code",
   "execution_count": 6,
   "metadata": {},
   "outputs": [],
   "source": [
    "area = img[37:111,107:194]\n",
    "img[0:74,0:87] = area"
   ]
  },
  {
   "cell_type": "code",
   "execution_count": null,
   "metadata": {},
   "outputs": [],
   "source": []
  }
 ],
 "metadata": {
  "kernelspec": {
   "display_name": "Python 2",
   "language": "python",
   "name": "python2"
  },
  "language_info": {
   "codemirror_mode": {
    "name": "ipython",
    "version": 2
   },
   "file_extension": ".py",
   "mimetype": "text/x-python",
   "name": "python",
   "nbconvert_exporter": "python",
   "pygments_lexer": "ipython2",
   "version": "2.7.14"
  }
 },
 "nbformat": 4,
 "nbformat_minor": 2
}
