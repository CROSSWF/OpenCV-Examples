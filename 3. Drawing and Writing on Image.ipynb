{
 "cells": [
  {
   "cell_type": "code",
   "execution_count": 1,
   "metadata": {
    "collapsed": true
   },
   "outputs": [],
   "source": [
    "import numpy as np\n",
    "import cv2"
   ]
  },
  {
   "cell_type": "code",
   "execution_count": 14,
   "metadata": {},
   "outputs": [],
   "source": [
    "img = cv2.imread('test.jpg',cv2.IMREAD_COLOR)\n",
    "\n",
    "cv2.line(img, (0,0), (600,600), (255,0,0), 15)\n",
    "cv2.rectangle(img, (15,25),(400,300), (0,255,0), 5)\n",
    "cv2.circle(img,(200,400), 55, (0,0,255), -1)\n",
    "\n",
    "pts = np.array([[100,50],[200,300],[700,200],[500,100]], np.int32)\n",
    "cv2.polylines(img, [pts], True, (255,0, 0), 3)\n",
    "\n",
    "font  = cv2.FONT_HERSHEY_SIMPLEX\n",
    "cv2.putText(img,'OpenCV', (100,100),font,5,(255,255,255),2,cv2.LINE_AA)\n",
    "\n",
    "\n",
    "cv2.imshow('image',img)\n",
    "cv2.waitKey(0)\n",
    "cv2.destroyAllWindows()"
   ]
  },
  {
   "cell_type": "code",
   "execution_count": null,
   "metadata": {
    "collapsed": true
   },
   "outputs": [],
   "source": []
  }
 ],
 "metadata": {
  "kernelspec": {
   "display_name": "Python 3",
   "language": "python",
   "name": "python3"
  },
  "language_info": {
   "codemirror_mode": {
    "name": "ipython",
    "version": 3
   },
   "file_extension": ".py",
   "mimetype": "text/x-python",
   "name": "python",
   "nbconvert_exporter": "python",
   "pygments_lexer": "ipython3",
   "version": "3.6.3"
  }
 },
 "nbformat": 4,
 "nbformat_minor": 2
}
